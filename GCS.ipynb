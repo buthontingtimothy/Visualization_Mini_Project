{
 "cells": [
  {
   "cell_type": "markdown",
   "metadata": {},
   "source": [
    "# Import Necessary Library"
   ]
  },
  {
   "cell_type": "code",
   "execution_count": 1,
   "metadata": {},
   "outputs": [],
   "source": [
    "# data maniuplation\n",
    "import pandas as pd\n",
    "# web scraping\n",
    "import requests\n",
    "from bs4 import BeautifulSoup"
   ]
  },
  {
   "cell_type": "markdown",
   "metadata": {},
   "source": [
    "# Web Scrape"
   ]
  },
  {
   "cell_type": "code",
   "execution_count": 2,
   "metadata": {},
   "outputs": [],
   "source": [
    "# This is the link include the region and its respective latitude and longitude\n",
    "link = \"https://www.hko.gov.hk/en/cis/stn.htm\"\n",
    "response = requests.get(link)"
   ]
  },
  {
   "cell_type": "markdown",
   "metadata": {},
   "source": [
    "# Parse html"
   ]
  },
  {
   "cell_type": "code",
   "execution_count": 3,
   "metadata": {},
   "outputs": [],
   "source": [
    "# parse html\n",
    "soup = BeautifulSoup(response.text, 'html.parser')"
   ]
  },
  {
   "cell_type": "code",
   "execution_count": 4,
   "metadata": {},
   "outputs": [],
   "source": [
    "# get the list of region \n",
    "region = [tag.get_text(separator=\"\\n\").split(\"\\n\")[0].strip(\"*\") for tag in soup.select(\"td:nth-of-type(1)\")[1:]]"
   ]
  },
  {
   "cell_type": "code",
   "execution_count": 5,
   "metadata": {},
   "outputs": [],
   "source": [
    "# get the list of latitude\n",
    "latitude = [lat.text for lat in soup.select(\"td:nth-of-type(2)\")]"
   ]
  },
  {
   "cell_type": "code",
   "execution_count": 6,
   "metadata": {},
   "outputs": [],
   "source": [
    "# get the list of longitude\n",
    "longitude = [long.text for long in soup.select(\"td:nth-of-type(3)\")]"
   ]
  },
  {
   "cell_type": "markdown",
   "metadata": {},
   "source": [
    "# Store in DataFrame"
   ]
  },
  {
   "cell_type": "code",
   "execution_count": 7,
   "metadata": {},
   "outputs": [],
   "source": [
    "# combine region, latitude and longitude into dictionary\n",
    "dict_gcs = {'region': region, 'latitude_raw': latitude, 'longitude_raw': longitude}"
   ]
  },
  {
   "cell_type": "code",
   "execution_count": 8,
   "metadata": {},
   "outputs": [],
   "source": [
    "# create dataframe from dictionary\n",
    "df_gcs = pd.DataFrame(dict_gcs).drop_duplicates().reset_index(drop=True).iloc[:80]"
   ]
  },
  {
   "cell_type": "markdown",
   "metadata": {},
   "source": [
    "# Angle Conversion"
   ]
  },
  {
   "cell_type": "code",
   "execution_count": 9,
   "metadata": {},
   "outputs": [],
   "source": [
    "def angle_conversion(angle):\n",
    "    '''\n",
    "    Output: angle in degree with decimal\n",
    "    Input: angle in degree, minute and second\n",
    "    Note: identify degree, minute and second by its sign \n",
    "    '''\n",
    "    degree_sign = \"°\"\n",
    "    minute_sign = \"'\"\n",
    "    second_sign = '\"'\n",
    "    all_sign = degree_sign + minute_sign + second_sign\n",
    "    if degree_sign in angle:\n",
    "        degree = float(angle.split(degree_sign)[0].strip(all_sign))\n",
    "    else:\n",
    "        degree = 0\n",
    "    if minute_sign in angle:\n",
    "        minute = float(angle.split(minute_sign)[0][-2:].strip(all_sign))\n",
    "    else:\n",
    "        minute = 0\n",
    "    if second_sign in angle:\n",
    "        second = float(angle.split(second_sign)[0][-2:].strip(all_sign))\n",
    "    else:\n",
    "        second = 0\n",
    "    degree_total = degree + minute / 60 + second / 3600\n",
    "    return degree_total"
   ]
  },
  {
   "cell_type": "code",
   "execution_count": 10,
   "metadata": {},
   "outputs": [],
   "source": [
    "# convert the latitude to degree only\n",
    "df_gcs['latitude'] = df_gcs['latitude_raw'].apply(angle_conversion)"
   ]
  },
  {
   "cell_type": "code",
   "execution_count": 11,
   "metadata": {},
   "outputs": [],
   "source": [
    "# convert the longitude to degree only\n",
    "df_gcs['longitude'] = df_gcs['longitude_raw'].apply(angle_conversion)"
   ]
  },
  {
   "cell_type": "code",
   "execution_count": 12,
   "metadata": {},
   "outputs": [],
   "source": [
    "# include desired columns only\n",
    "df_gcs_final = df_gcs[['region', 'latitude', 'longitude']]"
   ]
  },
  {
   "cell_type": "code",
   "execution_count": 13,
   "metadata": {},
   "outputs": [
    {
     "data": {
      "text/html": [
       "<div>\n",
       "<style scoped>\n",
       "    .dataframe tbody tr th:only-of-type {\n",
       "        vertical-align: middle;\n",
       "    }\n",
       "\n",
       "    .dataframe tbody tr th {\n",
       "        vertical-align: top;\n",
       "    }\n",
       "\n",
       "    .dataframe thead th {\n",
       "        text-align: right;\n",
       "    }\n",
       "</style>\n",
       "<table border=\"1\" class=\"dataframe\">\n",
       "  <thead>\n",
       "    <tr style=\"text-align: right;\">\n",
       "      <th></th>\n",
       "      <th>region</th>\n",
       "      <th>latitude</th>\n",
       "      <th>longitude</th>\n",
       "    </tr>\n",
       "  </thead>\n",
       "  <tbody>\n",
       "    <tr>\n",
       "      <th>0</th>\n",
       "      <td>Hong Kong Observatory</td>\n",
       "      <td>22.301944</td>\n",
       "      <td>114.174167</td>\n",
       "    </tr>\n",
       "    <tr>\n",
       "      <th>1</th>\n",
       "      <td>Hong Kong International Airport</td>\n",
       "      <td>22.309444</td>\n",
       "      <td>113.921944</td>\n",
       "    </tr>\n",
       "    <tr>\n",
       "      <th>2</th>\n",
       "      <td>Beas River</td>\n",
       "      <td>22.493333</td>\n",
       "      <td>114.105000</td>\n",
       "    </tr>\n",
       "    <tr>\n",
       "      <th>3</th>\n",
       "      <td>Bluff Head</td>\n",
       "      <td>22.197500</td>\n",
       "      <td>114.211944</td>\n",
       "    </tr>\n",
       "    <tr>\n",
       "      <th>4</th>\n",
       "      <td>Central Pier</td>\n",
       "      <td>22.288889</td>\n",
       "      <td>114.155833</td>\n",
       "    </tr>\n",
       "    <tr>\n",
       "      <th>...</th>\n",
       "      <td>...</td>\n",
       "      <td>...</td>\n",
       "      <td>...</td>\n",
       "    </tr>\n",
       "    <tr>\n",
       "      <th>75</th>\n",
       "      <td>Tai Po Wong Shiu Chi Secondary School</td>\n",
       "      <td>22.445556</td>\n",
       "      <td>114.171667</td>\n",
       "    </tr>\n",
       "    <tr>\n",
       "      <th>76</th>\n",
       "      <td>Tap Shek Kok</td>\n",
       "      <td>22.379167</td>\n",
       "      <td>113.920000</td>\n",
       "    </tr>\n",
       "    <tr>\n",
       "      <th>77</th>\n",
       "      <td>Tsim Bei Tsui</td>\n",
       "      <td>22.486389</td>\n",
       "      <td>114.011667</td>\n",
       "    </tr>\n",
       "    <tr>\n",
       "      <th>78</th>\n",
       "      <td>Tuen Mun Reservior</td>\n",
       "      <td>22.407500</td>\n",
       "      <td>113.987222</td>\n",
       "    </tr>\n",
       "    <tr>\n",
       "      <th>79</th>\n",
       "      <td>Tai Tan Camp</td>\n",
       "      <td>22.435278</td>\n",
       "      <td>114.334167</td>\n",
       "    </tr>\n",
       "  </tbody>\n",
       "</table>\n",
       "<p>80 rows × 3 columns</p>\n",
       "</div>"
      ],
      "text/plain": [
       "                                   region   latitude   longitude\n",
       "0                   Hong Kong Observatory  22.301944  114.174167\n",
       "1         Hong Kong International Airport  22.309444  113.921944\n",
       "2                              Beas River  22.493333  114.105000\n",
       "3                              Bluff Head  22.197500  114.211944\n",
       "4                            Central Pier  22.288889  114.155833\n",
       "..                                    ...        ...         ...\n",
       "75  Tai Po Wong Shiu Chi Secondary School  22.445556  114.171667\n",
       "76                           Tap Shek Kok  22.379167  113.920000\n",
       "77                          Tsim Bei Tsui  22.486389  114.011667\n",
       "78                     Tuen Mun Reservior  22.407500  113.987222\n",
       "79                           Tai Tan Camp  22.435278  114.334167\n",
       "\n",
       "[80 rows x 3 columns]"
      ]
     },
     "execution_count": 13,
     "metadata": {},
     "output_type": "execute_result"
    }
   ],
   "source": [
    "df_gcs_final"
   ]
  },
  {
   "cell_type": "markdown",
   "metadata": {},
   "source": [
    "# Save as csv"
   ]
  },
  {
   "cell_type": "code",
   "execution_count": 14,
   "metadata": {},
   "outputs": [],
   "source": [
    "# save it in csv\n",
    "df_gcs_final.to_csv(\"gcs.csv\")"
   ]
  }
 ],
 "metadata": {
  "kernelspec": {
   "display_name": ".venv",
   "language": "python",
   "name": "python3"
  },
  "language_info": {
   "codemirror_mode": {
    "name": "ipython",
    "version": 3
   },
   "file_extension": ".py",
   "mimetype": "text/x-python",
   "name": "python",
   "nbconvert_exporter": "python",
   "pygments_lexer": "ipython3",
   "version": "3.11.4"
  }
 },
 "nbformat": 4,
 "nbformat_minor": 2
}
