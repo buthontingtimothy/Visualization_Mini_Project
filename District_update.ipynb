{
 "cells": [
  {
   "cell_type": "markdown",
   "metadata": {},
   "source": [
    "# This is the 5th notebook\n",
    "- To map region to district"
   ]
  },
  {
   "cell_type": "markdown",
   "metadata": {},
   "source": [
    "# Import Necessary Library"
   ]
  },
  {
   "cell_type": "code",
   "execution_count": 1,
   "metadata": {},
   "outputs": [],
   "source": [
    "# data maniuplation\n",
    "import pandas as pd"
   ]
  },
  {
   "cell_type": "markdown",
   "metadata": {},
   "source": [
    "# Read CSV"
   ]
  },
  {
   "cell_type": "code",
   "execution_count": 2,
   "metadata": {},
   "outputs": [],
   "source": [
    "# read csv that updated region, ignore addition index column by setting index_col = 0\n",
    "df = pd.read_csv(\"data_gcs_combine_update.csv\", index_col=0)"
   ]
  },
  {
   "cell_type": "markdown",
   "metadata": {},
   "source": [
    "# Create a map for Station to District"
   ]
  },
  {
   "cell_type": "code",
   "execution_count": 3,
   "metadata": {},
   "outputs": [],
   "source": [
    "# define a dictionary to map 51 regions to 18 districts in Hong Kong\n",
    "station_to_district = {\n",
    "    \"Bluff Head\": \"Southern\",\n",
    "    \"Central Pier\": \"Central and Western\",\n",
    "    \"Cheung Chau\": \"Islands\",\n",
    "    \"Cheung Chau Beach\": \"Islands\",\n",
    "    \"Ching Pak House(Tsing Yi)\": \"Kwai Tsing\",\n",
    "    \"Clear Water Bay\": \"Sai Kung\",\n",
    "    \"Green Island\": \"Central and Western\",\n",
    "    \"Happy Valley\": \"Wan Chai\",\n",
    "    \"Hong Kong International Airport\": \"Islands\",\n",
    "    \"Hong Kong Observatory\": \"Yau Tsim Mong\",\n",
    "    \"Hong Kong Park\": \"Central and Western\",\n",
    "    \"Kai Tak\": \"Kowloon City\",\n",
    "    \"Kai Tak Runway Park\": \"Kowloon City\",\n",
    "    \"Kau Sai Chau\": \"Sai Kung\",\n",
    "    \"King's Park\": \"Yau Tsim Mong\",\n",
    "    \"Kowloon City\": \"Kowloon City\",\n",
    "    \"Kwun Tong\": \"Kwun Tong\",\n",
    "    \"Lamma Island\": \"Islands\",\n",
    "    \"Lau Fau Shan\": \"Yuen Long\",\n",
    "    \"New Tsing Yi Station\": \"Kwai Tsing\",\n",
    "    \"Ngong Ping\": \"Islands\",\n",
    "    \"North Point\": \"Eastern\",\n",
    "    \"Pak Tam Chung (Tsak Yue Wu)\": \"Sai Kung\",\n",
    "    \"Peng Chau\": \"Islands\",\n",
    "    \"Sai Kung\": \"Sai Kung\",\n",
    "    \"Sha Chau\": \"Tuen Mun\",\n",
    "    \"Sha Tin\": \"Sha Tin\",\n",
    "    \"Sham Shui Po\": \"Sham Shui Po\",\n",
    "    \"Shau Kei Wan\": \"Eastern\",\n",
    "    \"Shek Kong\": \"Yuen Long\",\n",
    "    \"Shell Oil Depot\": \"Kwai Tsing\",\n",
    "    \"Sheung Shui\": \"North\",\n",
    "    \"Stanley\": \"Southern\",\n",
    "    \"Star Ferry(Kowloon)\": \"Yau Tsim Mong\",\n",
    "    \"Ta Kwu Ling\": \"North\",\n",
    "    \"Tai Mei Tuk\": \"Tai Po\",\n",
    "    \"Tai Mo Shan\": \"Tsuen Wan\",\n",
    "    \"Tai Po Kau\": \"Tai Po\",\n",
    "    \"Tai Po(Yuen Chau Tsai Park)\": \"Tai Po\",\n",
    "    \"Tap Mun East\": \"Tai Po\",\n",
    "    \"Tate's Cairn\": \"Sha Tin\",\n",
    "    \"The Peak\": \"Central and Western\",\n",
    "    \"Tseung Kwan O\": \"Sai Kung\",\n",
    "    \"Tsuen Wan\": \"Tsuen Wan\",\n",
    "    \"Tsuen Wan Shing Mun Valley\": \"Tsuen Wan\",\n",
    "    \"Tuen Mun Children and Juvenile Home\": \"Tuen Mun\",\n",
    "    \"Tuen Mun Government Offices\": \"Tuen Mun\",\n",
    "    \"Waglan Island\": \"Islands\",\n",
    "    \"Wetland Park\": \"Yuen Long\",\n",
    "    \"Wong Chuk Hang\": \"Southern\",\n",
    "    \"Wong Tai Sin\": \"Wong Tai Sin\"\n",
    "}"
   ]
  },
  {
   "cell_type": "markdown",
   "metadata": {},
   "source": [
    "# Mapping"
   ]
  },
  {
   "cell_type": "code",
   "execution_count": 4,
   "metadata": {},
   "outputs": [],
   "source": [
    "# map by dictionary\n",
    "df['district'] = df['region'].map(station_to_district)"
   ]
  },
  {
   "cell_type": "markdown",
   "metadata": {},
   "source": [
    "# Save as csv"
   ]
  },
  {
   "cell_type": "code",
   "execution_count": 5,
   "metadata": {},
   "outputs": [],
   "source": [
    "# save it in csv\n",
    "df.to_csv(\"data_gcs_combine_update_district.csv\")"
   ]
  }
 ],
 "metadata": {
  "kernelspec": {
   "display_name": ".venv",
   "language": "python",
   "name": "python3"
  },
  "language_info": {
   "codemirror_mode": {
    "name": "ipython",
    "version": 3
   },
   "file_extension": ".py",
   "mimetype": "text/x-python",
   "name": "python",
   "nbconvert_exporter": "python",
   "pygments_lexer": "ipython3",
   "version": "3.11.4"
  }
 },
 "nbformat": 4,
 "nbformat_minor": 2
}
