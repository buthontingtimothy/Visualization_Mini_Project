{
 "cells": [
  {
   "cell_type": "code",
   "execution_count": 1,
   "metadata": {},
   "outputs": [],
   "source": [
    "import pandas as pd\n",
    "import numpy as np\n",
    "from scipy.spatial.distance import cdist\n",
    "from multiprocessing import Pool\n",
    "from fill_nulls_multiprocess import process_date_subset  # Import the function"
   ]
  },
  {
   "cell_type": "code",
   "execution_count": 2,
   "metadata": {},
   "outputs": [],
   "source": [
    "df = pd.read_csv(\"data_gcs_combine_update_district.csv\", index_col=0)"
   ]
  },
  {
   "cell_type": "code",
   "execution_count": 3,
   "metadata": {},
   "outputs": [],
   "source": [
    "def precompute_distances_with_numpy(stations, threshold):\n",
    "    \"\"\"\n",
    "    Precompute the pairwise distances and weights (1/distance^2) between stations,\n",
    "    filter pairs based on the distance threshold, and remove self-pairs.\n",
    "\n",
    "    Parameters:\n",
    "        stations (pd.DataFrame): DataFrame containing 'region', 'latitude', and 'longitude'.\n",
    "        threshold (float): Distance threshold in kilometers.\n",
    "\n",
    "    Returns:\n",
    "        pd.DataFrame: Filtered distance matrix with columns ['station1', 'station2', 'distance', 'weight'].\n",
    "    \"\"\"\n",
    "    coords = stations[['latitude', 'longitude']].to_numpy()\n",
    "    distances = cdist(coords, coords, metric='euclidean')  # Replace with great-circle distance if necessary\n",
    "    \n",
    "    # Convert to a DataFrame\n",
    "    distance_matrix = pd.DataFrame(distances, index=stations['region'], columns=stations['region'])\n",
    "\n",
    "    # Rename index and columns to avoid duplication\n",
    "    distance_matrix.index.name = 'station1'\n",
    "    distance_matrix.columns.name = 'station2'\n",
    "\n",
    "    # Convert to long format using stack\n",
    "    distance_matrix = distance_matrix.stack().reset_index()\n",
    "    distance_matrix.columns = ['station1', 'station2', 'distance']\n",
    "\n",
    "    # Remove self-pairs\n",
    "    distance_matrix = distance_matrix[distance_matrix['station1'] != distance_matrix['station2']]\n",
    "\n",
    "    # Filter by threshold\n",
    "    distance_matrix = distance_matrix[distance_matrix['distance'] <= threshold]\n",
    "\n",
    "    # Calculate weights (1/distance^2)\n",
    "    distance_matrix['weight'] = distance_matrix['distance'].apply(lambda d: 1 / (d ** 2))\n",
    "\n",
    "    return distance_matrix"
   ]
  },
  {
   "cell_type": "code",
   "execution_count": 4,
   "metadata": {},
   "outputs": [],
   "source": [
    "def parallel_fill_nulls(df, fields, distance_matrix, n_processes=4):\n",
    "    \"\"\"\n",
    "    Fill null values using multiprocessing by splitting the DataFrame by date.\n",
    "    \"\"\"\n",
    "    df_filled = df.copy()\n",
    "    dates = df_filled['date'].unique()\n",
    "\n",
    "    # Prepare arguments for multiprocessing\n",
    "    args = [(date, df_filled[df_filled['date'] == date], fields, distance_matrix) for date in dates]\n",
    "\n",
    "    # Use multiprocessing\n",
    "    with Pool(n_processes) as pool:\n",
    "        results = pool.map(process_date_subset, args)\n",
    "\n",
    "    # Combine results\n",
    "    df_filled = pd.concat(results, ignore_index=True)\n",
    "    return df_filled"
   ]
  },
  {
   "cell_type": "code",
   "execution_count": 5,
   "metadata": {},
   "outputs": [],
   "source": [
    "stations = df[['region', 'latitude', 'longitude']].drop_duplicates()"
   ]
  },
  {
   "cell_type": "code",
   "execution_count": 6,
   "metadata": {},
   "outputs": [],
   "source": [
    "fields_to_fill = [\n",
    "    'Mean Pressure (hPa)', \n",
    "    'Total Rainfall (mm)', \n",
    "    'Mean Relative Humidity (%)', \n",
    "    'Maximum Temperature (°C)', \n",
    "    'Minimum Temperature (°C)', \n",
    "    'Mean Temperature (°C)', \n",
    "    'Prevailing Wind Direction (°)', \n",
    "    'Mean Wind Speed (km/h)']"
   ]
  },
  {
   "cell_type": "code",
   "execution_count": 7,
   "metadata": {},
   "outputs": [],
   "source": [
    "threshold = 30  # Define a distance threshold"
   ]
  },
  {
   "cell_type": "code",
   "execution_count": 8,
   "metadata": {},
   "outputs": [],
   "source": [
    "distance_matrix = precompute_distances_with_numpy(stations, threshold)"
   ]
  },
  {
   "cell_type": "code",
   "execution_count": 9,
   "metadata": {},
   "outputs": [],
   "source": [
    "filled_df = parallel_fill_nulls(df, fields_to_fill, distance_matrix, n_processes=4)"
   ]
  },
  {
   "cell_type": "code",
   "execution_count": 10,
   "metadata": {},
   "outputs": [],
   "source": [
    "filled_df.to_csv(\"data_gcs_combine_update_district_fillna.csv\")"
   ]
  }
 ],
 "metadata": {
  "kernelspec": {
   "display_name": ".venv",
   "language": "python",
   "name": "python3"
  },
  "language_info": {
   "codemirror_mode": {
    "name": "ipython",
    "version": 3
   },
   "file_extension": ".py",
   "mimetype": "text/x-python",
   "name": "python",
   "nbconvert_exporter": "python",
   "pygments_lexer": "ipython3",
   "version": "3.11.4"
  }
 },
 "nbformat": 4,
 "nbformat_minor": 2
}
