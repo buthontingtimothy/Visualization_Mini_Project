{
 "cells": [
  {
   "cell_type": "markdown",
   "metadata": {},
   "source": [
    "# Library Importation"
   ]
  },
  {
   "cell_type": "code",
   "execution_count": 1,
   "metadata": {},
   "outputs": [],
   "source": [
    "# data maniuplation\n",
    "import numpy as np\n",
    "import pandas as pd\n",
    "from functools import reduce\n",
    "# web scraping\n",
    "import requests\n",
    "from bs4 import BeautifulSoup\n",
    "# ssl certification\n",
    "import ssl"
   ]
  },
  {
   "cell_type": "markdown",
   "metadata": {},
   "source": [
    "# Constant and function definition"
   ]
  },
  {
   "cell_type": "code",
   "execution_count": 2,
   "metadata": {},
   "outputs": [],
   "source": [
    "# ssl certification\n",
    "ssl._create_default_https_context = ssl._create_unverified_context\n",
    "# pre-define argument for pd.read_csv\n",
    "arg_read_csv = {'header':1, 'skipfooter':3, 'engine':'python'}\n",
    "# pre-defind argument for pd.merge\n",
    "col_merge = ['date', 'region']\n",
    "# 3 series for temperature (Mean, Max, Min)\n",
    "data_type_list_temperature = ['CLMTEMP', 'CLMMAXT', 'CLMMINT']\n",
    "# known stations for temperature\n",
    "station_temperature = ['CCH','CWB','HKA','HKO','HKP','HKS','HPV','JKB','KLT','KP','KSC','KTG','LFS','NGP','PEN','PLC','SE1','SEK','SHA','SKG','SKW','SSH','SSP','STY','TC','TKL','TMS','TPO','TU1','TW','TWN','TY1','TYW','VP1','WGL','WLP','WTS','YCT']\n",
    "# known stations for series other than temperature\n",
    "staion_other = ['BHD','CCB','CCH','CPH','CP1','CWB','GI','HKA','HKO','HKP','HKS','HPV','JKB','KLT','KP','KSC','KTG','LAM','LFS','NGP','NP','PEN','PLC','SC','SE','SE1','SEK','SF','SHA','SHL','SKG','SKW','SSH','SSP','STY','TC','TKL','TME','TMS','TPK','TPO','TUN','TU1','TW','TWN','TY1','TYW','VP1','WGL','WLP','WTS','YCT']"
   ]
  },
  {
   "cell_type": "code",
   "execution_count": 3,
   "metadata": {},
   "outputs": [],
   "source": [
    "def get_link_list(data):\n",
    "  # to get the list of api link for a data series except temperature\n",
    "  response = requests.get(f\"https://data.gov.hk/tc-data/dataset/hk-hko-rss-{data}\")\n",
    "  soup = BeautifulSoup(response.text, 'html.parser')\n",
    "  result = soup.find_all('a', \"dataset-details__list-item-download btn btn--light\")\n",
    "  link_list = []\n",
    "  for tag in result:\n",
    "    if isinstance(link:=tag.get(\"href\"), str) and \"ALL\" in link:\n",
    "      link_list.append(link)\n",
    "  return link_list"
   ]
  },
  {
   "cell_type": "code",
   "execution_count": 4,
   "metadata": {},
   "outputs": [],
   "source": [
    "def digit_or_null(value):\n",
    "    # to change the data type to float or null\n",
    "    try:\n",
    "        float(value)\n",
    "    except:\n",
    "        return np.nan\n",
    "    else:\n",
    "        return float(value)"
   ]
  },
  {
   "cell_type": "code",
   "execution_count": 5,
   "metadata": {},
   "outputs": [],
   "source": [
    "def read_csv(link, year=0):\n",
    "  # to get a dataframe from csv with transformation except for temperature\n",
    "  df = pd.read_csv(link, **arg_read_csv)\n",
    "  col_name = df.columns[0]\n",
    "  df_temp = df.reset_index().iloc[1:].dropna(subset='level_3')\n",
    "  df_rename = df_temp.rename(columns={'level_0': 'year', 'level_1': 'month', 'level_2': 'day', 'level_3': col_name, col_name:'completeness'})\n",
    "  df_valid_data = df_rename[(df_rename['year'] != '1900') | (df_rename['month'] != '2') | (df_rename['day'] != '29')]\n",
    "  df_valid_data = df_valid_data.copy()\n",
    "  df_valid_data['date'] = pd.to_datetime(df_valid_data[['year','month','day']])\n",
    "  df_date = df_valid_data.set_index('date')\n",
    "  df_date_filter = df_date[df_date.index.year >= year]\n",
    "  df_final = df_date_filter[col_name].apply(lambda x: digit_or_null(x))\n",
    "  return df_final"
   ]
  },
  {
   "cell_type": "code",
   "execution_count": 6,
   "metadata": {},
   "outputs": [],
   "source": [
    "def temperature(data_type, station, year=0):\n",
    "  # to get a dataframe from csv with transformation for temperature\n",
    "  df = pd.read_csv(f\"https://data.weather.gov.hk/weatherAPI/opendata/opendata.php?dataType={data_type}&rformat=csv&station={station}\",\n",
    "            engine='python',\n",
    "            header=1,\n",
    "            skipfooter=3,\n",
    "            sep=None)\n",
    "  col_name = df.columns[0]\n",
    "  df_temp = df.iloc[1:,0].str.split(\",\", expand=True)\n",
    "  df_rename = df_temp.rename(columns={0: 'year', 1: 'month', 2: 'day', 3: col_name, 4:'completeness'})\n",
    "  df_valid_data = df_rename[(df_rename['year'] != '1900') | (df_rename['month'] != '2') | (df_rename['day'] != '29')].reset_index()\n",
    "  df_valid_data = df_valid_data.copy()\n",
    "  df_valid_data['date'] = pd.to_datetime(df_valid_data[['year','month','day']])\n",
    "  df_date = df_valid_data.set_index('date')\n",
    "  df_date_filter = df_date[df_date.index.year >= year]\n",
    "  df_final = df_date_filter[col_name].apply(lambda x: digit_or_null(x))\n",
    "  return df_final"
   ]
  },
  {
   "cell_type": "code",
   "execution_count": 7,
   "metadata": {},
   "outputs": [],
   "source": [
    "def melt(df):\n",
    "  # to get a 3-columns dataframe for a single data series when each column represent a single station\n",
    "  if isinstance(df, pd.Series):\n",
    "    df = df.copy().to_frame()\n",
    "  df_melt = pd.melt(df.reset_index(), id_vars=['date'])\n",
    "  df_melt['region'] = df_melt['variable'].apply(lambda x: x.split(\"- \")[1] if \"-\" in x else x.split(\"at the \")[1]).str.rstrip()\n",
    "  df_melt['type'] = df_melt['variable'].apply(lambda x: x.split(\" -\")[0] if \"-\" in x else x.split(\" at the\")[0].split(\"Daily \")[1])\n",
    "  col_name = df_melt['type'].value_counts().index[0]\n",
    "  return df_melt[['date', 'region', 'value']].rename(columns={'value':col_name})"
   ]
  },
  {
   "cell_type": "code",
   "execution_count": 8,
   "metadata": {},
   "outputs": [],
   "source": [
    "def merge(list_df): \n",
    "    # to combine a dataframe from different data series and using \"date\" and \"region\" to outer join\n",
    "    return reduce(lambda  left, right: pd.merge(left, right, on=col_merge, how='outer'), list_df)"
   ]
  },
  {
   "cell_type": "code",
   "execution_count": 11,
   "metadata": {},
   "outputs": [],
   "source": [
    "def get_station_list(id_list):\n",
    "    # to get the list of station by input the list of data series id\n",
    "    return [link.split(\"/\")[-1].split(\"_\")[1] for id in id_list for link in get_link_list(id)]"
   ]
  },
  {
   "cell_type": "code",
   "execution_count": 12,
   "metadata": {},
   "outputs": [],
   "source": [
    "def get_data_series_list(id_list):\n",
    "    # to get the list of data series code by input the list of data series id\n",
    "    # one data series id may contain more than one data series. i.e. daily-maximum-mean-heat-index\n",
    "    return [link.split(\"/\")[-1].split(\"_\")[2] for id in id_list for link in get_link_list(id)]"
   ]
  },
  {
   "cell_type": "code",
   "execution_count": 13,
   "metadata": {},
   "outputs": [],
   "source": [
    "def unique_sort(input_list):\n",
    "    # to get the unique and sorted value of a list\n",
    "    unique = set(input_list)\n",
    "    sorted = list(unique)\n",
    "    sorted.sort()\n",
    "    return sorted"
   ]
  },
  {
   "cell_type": "code",
   "execution_count": 14,
   "metadata": {},
   "outputs": [],
   "source": [
    "def get_series_station(series, station, year=0):\n",
    "    link = f\"https://data.weather.gov.hk/weatherAPI/cis/csvfile/{station}/ALL/daily_{station}_{series}_ALL.csv\"\n",
    "    return read_csv(link, year)"
   ]
  },
  {
   "cell_type": "code",
   "execution_count": 15,
   "metadata": {},
   "outputs": [],
   "source": [
    "def get_wind_station(series, station, year=0):\n",
    "    link = f\"https://data.weather.gov.hk/cis/csvfile/{station}/ALL/daily_{station}_{series}_ALL.csv\"\n",
    "    return read_csv(link, year)"
   ]
  },
  {
   "cell_type": "code",
   "execution_count": 16,
   "metadata": {},
   "outputs": [],
   "source": [
    "def merge_all_station_in_all_series(data_type_list, station_list, func, year=0):\n",
    "    series_all_station_all = []\n",
    "    series_one_station_all = []\n",
    "    for data_type in data_type_list:\n",
    "        for station in station_list:\n",
    "            try:\n",
    "                result = func(data_type, station, year)\n",
    "            except:\n",
    "                pass\n",
    "            else:\n",
    "                series_one_station_all.append(result)\n",
    "        series_all_station_all.append(melt(pd.concat(series_one_station_all, axis=1)))\n",
    "        series_one_station_all = []\n",
    "    return merge(series_all_station_all)"
   ]
  },
  {
   "cell_type": "markdown",
   "metadata": {},
   "source": [
    "# All Combination between Data Series and Station"
   ]
  },
  {
   "cell_type": "markdown",
   "metadata": {},
   "source": [
    "## Find All Station"
   ]
  },
  {
   "cell_type": "code",
   "execution_count": 17,
   "metadata": {},
   "outputs": [],
   "source": [
    "data_id_list = [\"daily-maximum-mean-heat-index\", \n",
    "                \"daily-mean-amount-of-cloud\", \n",
    "                \"daily-mean-pressure\",\n",
    "                \"daily-total-rainfall\",\n",
    "                \"daily-mean-relative-humidity\",\n",
    "                \"daily-global-solar-radiation\",\n",
    "                \"daily-maximum-mean-uv-index\",\n",
    "                \"daily-total-bright-sunshine\"]"
   ]
  },
  {
   "cell_type": "code",
   "execution_count": 18,
   "metadata": {},
   "outputs": [],
   "source": [
    "wind_id_list = [\"daily-prevailing-wind-direction\",\n",
    "                \"daily-mean-wind-speed\"]"
   ]
  },
  {
   "cell_type": "code",
   "execution_count": 19,
   "metadata": {},
   "outputs": [],
   "source": [
    "station_wind = get_station_list(wind_id_list)"
   ]
  },
  {
   "cell_type": "code",
   "execution_count": 20,
   "metadata": {},
   "outputs": [],
   "source": [
    "station_data = get_station_list(data_id_list)"
   ]
  },
  {
   "cell_type": "code",
   "execution_count": 21,
   "metadata": {},
   "outputs": [],
   "source": [
    "station_all = station_data + station_temperature + station_wind + staion_other"
   ]
  },
  {
   "cell_type": "code",
   "execution_count": 22,
   "metadata": {},
   "outputs": [],
   "source": [
    "station_unique_sort = unique_sort(station_all)"
   ]
  },
  {
   "cell_type": "markdown",
   "metadata": {},
   "source": [
    "## Find All Data Series"
   ]
  },
  {
   "cell_type": "code",
   "execution_count": 23,
   "metadata": {},
   "outputs": [],
   "source": [
    "data_series = unique_sort(get_data_series_list(data_id_list))"
   ]
  },
  {
   "cell_type": "code",
   "execution_count": 24,
   "metadata": {},
   "outputs": [],
   "source": [
    "wind_series = unique_sort(get_data_series_list(wind_id_list))"
   ]
  },
  {
   "cell_type": "markdown",
   "metadata": {},
   "source": [
    "## Combine All Series in All Station"
   ]
  },
  {
   "cell_type": "code",
   "execution_count": 25,
   "metadata": {},
   "outputs": [],
   "source": [
    "df_data = merge_all_station_in_all_series(data_series, station_unique_sort, get_series_station, 2014)"
   ]
  },
  {
   "cell_type": "code",
   "execution_count": 26,
   "metadata": {},
   "outputs": [],
   "source": [
    "df_wind = merge_all_station_in_all_series(wind_series, station_unique_sort, get_wind_station, 2014)"
   ]
  },
  {
   "cell_type": "code",
   "execution_count": 27,
   "metadata": {},
   "outputs": [],
   "source": [
    "df_temp = merge_all_station_in_all_series(data_type_list_temperature, station_unique_sort, temperature, 2014)"
   ]
  },
  {
   "cell_type": "code",
   "execution_count": 28,
   "metadata": {},
   "outputs": [],
   "source": [
    "data_all = merge([df_data, df_wind, df_temp])"
   ]
  },
  {
   "cell_type": "markdown",
   "metadata": {},
   "source": [
    "## Final Formatting"
   ]
  },
  {
   "cell_type": "code",
   "execution_count": 29,
   "metadata": {},
   "outputs": [],
   "source": [
    "data_final = data_all[['date', \n",
    "                       'region', \n",
    "                       'Mean HKHI', \n",
    "                       'Max HKHI', \n",
    "                       'Mean Amount of Cloud (%)', \n",
    "                       'Mean Pressure (hPa)', \n",
    "                       'Total Rainfall (mm)', \n",
    "                       'Mean Relative Humidity (%)', \n",
    "                       'Maximum Temperature (°C)', \n",
    "                       'Minimum Temperature (°C)', \n",
    "                       'Mean Temperature (°C)', \n",
    "                       'Global Solar Radiation (MJ/m&sup2;)', \n",
    "                       'Max UV Indices(15-minute average)', \n",
    "                       'Mean UV Indices(7 a.m. to 6 p.m.)', \n",
    "                       'Total Bright Sunshine (hours)',\n",
    "                       'Prevailing Wind Direction (°)',\n",
    "                       'Mean Wind Speed (km/h)'\n",
    "                       ]].sort_values([\"date\", \"region\"]).reset_index(drop=True)"
   ]
  },
  {
   "cell_type": "code",
   "execution_count": 30,
   "metadata": {},
   "outputs": [
    {
     "data": {
      "text/html": [
       "<div>\n",
       "<style scoped>\n",
       "    .dataframe tbody tr th:only-of-type {\n",
       "        vertical-align: middle;\n",
       "    }\n",
       "\n",
       "    .dataframe tbody tr th {\n",
       "        vertical-align: top;\n",
       "    }\n",
       "\n",
       "    .dataframe thead th {\n",
       "        text-align: right;\n",
       "    }\n",
       "</style>\n",
       "<table border=\"1\" class=\"dataframe\">\n",
       "  <thead>\n",
       "    <tr style=\"text-align: right;\">\n",
       "      <th></th>\n",
       "      <th>date</th>\n",
       "      <th>region</th>\n",
       "      <th>Mean HKHI</th>\n",
       "      <th>Max HKHI</th>\n",
       "      <th>Mean Amount of Cloud (%)</th>\n",
       "      <th>Mean Pressure (hPa)</th>\n",
       "      <th>Total Rainfall (mm)</th>\n",
       "      <th>Mean Relative Humidity (%)</th>\n",
       "      <th>Maximum Temperature (°C)</th>\n",
       "      <th>Minimum Temperature (°C)</th>\n",
       "      <th>Mean Temperature (°C)</th>\n",
       "      <th>Global Solar Radiation (MJ/m&amp;sup2;)</th>\n",
       "      <th>Max UV Indices(15-minute average)</th>\n",
       "      <th>Mean UV Indices(7 a.m. to 6 p.m.)</th>\n",
       "      <th>Total Bright Sunshine (hours)</th>\n",
       "      <th>Prevailing Wind Direction (°)</th>\n",
       "      <th>Mean Wind Speed (km/h)</th>\n",
       "    </tr>\n",
       "  </thead>\n",
       "  <tbody>\n",
       "    <tr>\n",
       "      <th>0</th>\n",
       "      <td>2014-01-01</td>\n",
       "      <td>Bluff Head</td>\n",
       "      <td>NaN</td>\n",
       "      <td>NaN</td>\n",
       "      <td>NaN</td>\n",
       "      <td>NaN</td>\n",
       "      <td>NaN</td>\n",
       "      <td>NaN</td>\n",
       "      <td>20.8</td>\n",
       "      <td>13.7</td>\n",
       "      <td>16.3</td>\n",
       "      <td>NaN</td>\n",
       "      <td>NaN</td>\n",
       "      <td>NaN</td>\n",
       "      <td>NaN</td>\n",
       "      <td>80.0</td>\n",
       "      <td>9.7</td>\n",
       "    </tr>\n",
       "    <tr>\n",
       "      <th>1</th>\n",
       "      <td>2014-01-01</td>\n",
       "      <td>Central Pier</td>\n",
       "      <td>NaN</td>\n",
       "      <td>NaN</td>\n",
       "      <td>NaN</td>\n",
       "      <td>NaN</td>\n",
       "      <td>NaN</td>\n",
       "      <td>NaN</td>\n",
       "      <td>NaN</td>\n",
       "      <td>NaN</td>\n",
       "      <td>NaN</td>\n",
       "      <td>NaN</td>\n",
       "      <td>NaN</td>\n",
       "      <td>NaN</td>\n",
       "      <td>NaN</td>\n",
       "      <td>80.0</td>\n",
       "      <td>7.0</td>\n",
       "    </tr>\n",
       "    <tr>\n",
       "      <th>2</th>\n",
       "      <td>2014-01-01</td>\n",
       "      <td>Cheung Chau</td>\n",
       "      <td>NaN</td>\n",
       "      <td>NaN</td>\n",
       "      <td>NaN</td>\n",
       "      <td>1019.0</td>\n",
       "      <td>0.0</td>\n",
       "      <td>50.0</td>\n",
       "      <td>20.6</td>\n",
       "      <td>12.3</td>\n",
       "      <td>15.7</td>\n",
       "      <td>NaN</td>\n",
       "      <td>NaN</td>\n",
       "      <td>NaN</td>\n",
       "      <td>NaN</td>\n",
       "      <td>10.0</td>\n",
       "      <td>13.7</td>\n",
       "    </tr>\n",
       "    <tr>\n",
       "      <th>3</th>\n",
       "      <td>2014-01-01</td>\n",
       "      <td>Cheung Chau Beach</td>\n",
       "      <td>NaN</td>\n",
       "      <td>NaN</td>\n",
       "      <td>NaN</td>\n",
       "      <td>NaN</td>\n",
       "      <td>NaN</td>\n",
       "      <td>NaN</td>\n",
       "      <td>NaN</td>\n",
       "      <td>NaN</td>\n",
       "      <td>NaN</td>\n",
       "      <td>NaN</td>\n",
       "      <td>NaN</td>\n",
       "      <td>NaN</td>\n",
       "      <td>NaN</td>\n",
       "      <td>350.0</td>\n",
       "      <td>9.0</td>\n",
       "    </tr>\n",
       "    <tr>\n",
       "      <th>4</th>\n",
       "      <td>2014-01-01</td>\n",
       "      <td>Ching Pak House(Tsing Yi)</td>\n",
       "      <td>NaN</td>\n",
       "      <td>NaN</td>\n",
       "      <td>NaN</td>\n",
       "      <td>NaN</td>\n",
       "      <td>0.0</td>\n",
       "      <td>41.0</td>\n",
       "      <td>21.1</td>\n",
       "      <td>12.8</td>\n",
       "      <td>16.4</td>\n",
       "      <td>NaN</td>\n",
       "      <td>NaN</td>\n",
       "      <td>NaN</td>\n",
       "      <td>NaN</td>\n",
       "      <td>NaN</td>\n",
       "      <td>NaN</td>\n",
       "    </tr>\n",
       "    <tr>\n",
       "      <th>...</th>\n",
       "      <td>...</td>\n",
       "      <td>...</td>\n",
       "      <td>...</td>\n",
       "      <td>...</td>\n",
       "      <td>...</td>\n",
       "      <td>...</td>\n",
       "      <td>...</td>\n",
       "      <td>...</td>\n",
       "      <td>...</td>\n",
       "      <td>...</td>\n",
       "      <td>...</td>\n",
       "      <td>...</td>\n",
       "      <td>...</td>\n",
       "      <td>...</td>\n",
       "      <td>...</td>\n",
       "      <td>...</td>\n",
       "      <td>...</td>\n",
       "    </tr>\n",
       "    <tr>\n",
       "      <th>208931</th>\n",
       "      <td>2024-12-31</td>\n",
       "      <td>Tuen Mun Government Offices</td>\n",
       "      <td>NaN</td>\n",
       "      <td>NaN</td>\n",
       "      <td>NaN</td>\n",
       "      <td>NaN</td>\n",
       "      <td>NaN</td>\n",
       "      <td>NaN</td>\n",
       "      <td>NaN</td>\n",
       "      <td>NaN</td>\n",
       "      <td>NaN</td>\n",
       "      <td>NaN</td>\n",
       "      <td>NaN</td>\n",
       "      <td>NaN</td>\n",
       "      <td>NaN</td>\n",
       "      <td>20.0</td>\n",
       "      <td>7.5</td>\n",
       "    </tr>\n",
       "    <tr>\n",
       "      <th>208932</th>\n",
       "      <td>2024-12-31</td>\n",
       "      <td>Waglan Island</td>\n",
       "      <td>NaN</td>\n",
       "      <td>NaN</td>\n",
       "      <td>NaN</td>\n",
       "      <td>1019.2</td>\n",
       "      <td>0.0</td>\n",
       "      <td>64.0</td>\n",
       "      <td>23.8</td>\n",
       "      <td>17.0</td>\n",
       "      <td>19.0</td>\n",
       "      <td>NaN</td>\n",
       "      <td>NaN</td>\n",
       "      <td>NaN</td>\n",
       "      <td>NaN</td>\n",
       "      <td>350.0</td>\n",
       "      <td>14.8</td>\n",
       "    </tr>\n",
       "    <tr>\n",
       "      <th>208933</th>\n",
       "      <td>2024-12-31</td>\n",
       "      <td>Wetland Park</td>\n",
       "      <td>NaN</td>\n",
       "      <td>NaN</td>\n",
       "      <td>NaN</td>\n",
       "      <td>1019.3</td>\n",
       "      <td>0.0</td>\n",
       "      <td>60.0</td>\n",
       "      <td>25.8</td>\n",
       "      <td>13.7</td>\n",
       "      <td>19.0</td>\n",
       "      <td>NaN</td>\n",
       "      <td>NaN</td>\n",
       "      <td>NaN</td>\n",
       "      <td>NaN</td>\n",
       "      <td>40.0</td>\n",
       "      <td>1.5</td>\n",
       "    </tr>\n",
       "    <tr>\n",
       "      <th>208934</th>\n",
       "      <td>2024-12-31</td>\n",
       "      <td>Wong Chuk Hang</td>\n",
       "      <td>NaN</td>\n",
       "      <td>NaN</td>\n",
       "      <td>NaN</td>\n",
       "      <td>NaN</td>\n",
       "      <td>NaN</td>\n",
       "      <td>55.0</td>\n",
       "      <td>23.7</td>\n",
       "      <td>14.2</td>\n",
       "      <td>20.0</td>\n",
       "      <td>NaN</td>\n",
       "      <td>NaN</td>\n",
       "      <td>NaN</td>\n",
       "      <td>NaN</td>\n",
       "      <td>130.0</td>\n",
       "      <td>5.3</td>\n",
       "    </tr>\n",
       "    <tr>\n",
       "      <th>208935</th>\n",
       "      <td>2024-12-31</td>\n",
       "      <td>Wong Tai Sin</td>\n",
       "      <td>NaN</td>\n",
       "      <td>NaN</td>\n",
       "      <td>NaN</td>\n",
       "      <td>NaN</td>\n",
       "      <td>NaN</td>\n",
       "      <td>NaN</td>\n",
       "      <td>24.3</td>\n",
       "      <td>17.2</td>\n",
       "      <td>20.6</td>\n",
       "      <td>NaN</td>\n",
       "      <td>NaN</td>\n",
       "      <td>NaN</td>\n",
       "      <td>NaN</td>\n",
       "      <td>NaN</td>\n",
       "      <td>NaN</td>\n",
       "    </tr>\n",
       "  </tbody>\n",
       "</table>\n",
       "<p>208936 rows × 17 columns</p>\n",
       "</div>"
      ],
      "text/plain": [
       "             date                       region  Mean HKHI  Max HKHI  \\\n",
       "0      2014-01-01                   Bluff Head        NaN       NaN   \n",
       "1      2014-01-01                 Central Pier        NaN       NaN   \n",
       "2      2014-01-01                  Cheung Chau        NaN       NaN   \n",
       "3      2014-01-01            Cheung Chau Beach        NaN       NaN   \n",
       "4      2014-01-01    Ching Pak House(Tsing Yi)        NaN       NaN   \n",
       "...           ...                          ...        ...       ...   \n",
       "208931 2024-12-31  Tuen Mun Government Offices        NaN       NaN   \n",
       "208932 2024-12-31                Waglan Island        NaN       NaN   \n",
       "208933 2024-12-31                 Wetland Park        NaN       NaN   \n",
       "208934 2024-12-31               Wong Chuk Hang        NaN       NaN   \n",
       "208935 2024-12-31                 Wong Tai Sin        NaN       NaN   \n",
       "\n",
       "        Mean Amount of Cloud (%)  Mean Pressure (hPa) Total Rainfall (mm)  \\\n",
       "0                            NaN                  NaN                 NaN   \n",
       "1                            NaN                  NaN                 NaN   \n",
       "2                            NaN               1019.0                 0.0   \n",
       "3                            NaN                  NaN                 NaN   \n",
       "4                            NaN                  NaN                 0.0   \n",
       "...                          ...                  ...                 ...   \n",
       "208931                       NaN                  NaN                 NaN   \n",
       "208932                       NaN               1019.2                 0.0   \n",
       "208933                       NaN               1019.3                 0.0   \n",
       "208934                       NaN                  NaN                 NaN   \n",
       "208935                       NaN                  NaN                 NaN   \n",
       "\n",
       "       Mean Relative Humidity (%) Maximum Temperature (°C)  \\\n",
       "0                             NaN                     20.8   \n",
       "1                             NaN                      NaN   \n",
       "2                            50.0                     20.6   \n",
       "3                             NaN                      NaN   \n",
       "4                            41.0                     21.1   \n",
       "...                           ...                      ...   \n",
       "208931                        NaN                      NaN   \n",
       "208932                       64.0                     23.8   \n",
       "208933                       60.0                     25.8   \n",
       "208934                       55.0                     23.7   \n",
       "208935                        NaN                     24.3   \n",
       "\n",
       "       Minimum Temperature (°C) Mean Temperature (°C)  \\\n",
       "0                          13.7                  16.3   \n",
       "1                           NaN                   NaN   \n",
       "2                          12.3                  15.7   \n",
       "3                           NaN                   NaN   \n",
       "4                          12.8                  16.4   \n",
       "...                         ...                   ...   \n",
       "208931                      NaN                   NaN   \n",
       "208932                     17.0                  19.0   \n",
       "208933                     13.7                  19.0   \n",
       "208934                     14.2                  20.0   \n",
       "208935                     17.2                  20.6   \n",
       "\n",
       "        Global Solar Radiation (MJ/m&sup2;)  \\\n",
       "0                                       NaN   \n",
       "1                                       NaN   \n",
       "2                                       NaN   \n",
       "3                                       NaN   \n",
       "4                                       NaN   \n",
       "...                                     ...   \n",
       "208931                                  NaN   \n",
       "208932                                  NaN   \n",
       "208933                                  NaN   \n",
       "208934                                  NaN   \n",
       "208935                                  NaN   \n",
       "\n",
       "        Max UV Indices(15-minute average)  Mean UV Indices(7 a.m. to 6 p.m.)  \\\n",
       "0                                     NaN                                NaN   \n",
       "1                                     NaN                                NaN   \n",
       "2                                     NaN                                NaN   \n",
       "3                                     NaN                                NaN   \n",
       "4                                     NaN                                NaN   \n",
       "...                                   ...                                ...   \n",
       "208931                                NaN                                NaN   \n",
       "208932                                NaN                                NaN   \n",
       "208933                                NaN                                NaN   \n",
       "208934                                NaN                                NaN   \n",
       "208935                                NaN                                NaN   \n",
       "\n",
       "        Total Bright Sunshine (hours) Prevailing Wind Direction (°)  \\\n",
       "0                                 NaN                          80.0   \n",
       "1                                 NaN                          80.0   \n",
       "2                                 NaN                          10.0   \n",
       "3                                 NaN                         350.0   \n",
       "4                                 NaN                           NaN   \n",
       "...                               ...                           ...   \n",
       "208931                            NaN                          20.0   \n",
       "208932                            NaN                         350.0   \n",
       "208933                            NaN                          40.0   \n",
       "208934                            NaN                         130.0   \n",
       "208935                            NaN                           NaN   \n",
       "\n",
       "       Mean Wind Speed (km/h)  \n",
       "0                         9.7  \n",
       "1                         7.0  \n",
       "2                        13.7  \n",
       "3                         9.0  \n",
       "4                         NaN  \n",
       "...                       ...  \n",
       "208931                    7.5  \n",
       "208932                   14.8  \n",
       "208933                    1.5  \n",
       "208934                    5.3  \n",
       "208935                    NaN  \n",
       "\n",
       "[208936 rows x 17 columns]"
      ]
     },
     "execution_count": 30,
     "metadata": {},
     "output_type": "execute_result"
    }
   ],
   "source": [
    "data_final"
   ]
  },
  {
   "cell_type": "markdown",
   "metadata": {},
   "source": [
    "## Save as csv"
   ]
  },
  {
   "cell_type": "code",
   "execution_count": 31,
   "metadata": {},
   "outputs": [],
   "source": [
    "# data_final.to_csv(\"data_final.csv\")"
   ]
  }
 ],
 "metadata": {
  "kernelspec": {
   "display_name": ".venv",
   "language": "python",
   "name": "python3"
  },
  "language_info": {
   "codemirror_mode": {
    "name": "ipython",
    "version": 3
   },
   "file_extension": ".py",
   "mimetype": "text/x-python",
   "name": "python",
   "nbconvert_exporter": "python",
   "pygments_lexer": "ipython3",
   "version": "3.11.4"
  }
 },
 "nbformat": 4,
 "nbformat_minor": 2
}
