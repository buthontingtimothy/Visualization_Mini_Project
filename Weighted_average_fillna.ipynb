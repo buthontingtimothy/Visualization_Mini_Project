{
 "cells": [
  {
   "cell_type": "code",
   "execution_count": 61,
   "metadata": {},
   "outputs": [],
   "source": [
    "import pandas as pd\n",
    "import numpy as np\n",
    "from geopy.distance import geodesic\n",
    "from itertools import product"
   ]
  },
  {
   "cell_type": "code",
   "execution_count": 2,
   "metadata": {},
   "outputs": [],
   "source": [
    "df = pd.read_csv(\"data_gcs_combine_update_district.csv\", index_col=0)"
   ]
  },
  {
   "cell_type": "code",
   "execution_count": 3,
   "metadata": {},
   "outputs": [],
   "source": [
    "df['date'] = pd.to_datetime(df['date'])"
   ]
  },
  {
   "cell_type": "code",
   "execution_count": 41,
   "metadata": {},
   "outputs": [],
   "source": [
    "def precompute_distances_and_weights_with_threshold(stations, threshold):\n",
    "    \"\"\"\n",
    "    Precompute the pairwise distances and weights (1/distance^2) between stations,\n",
    "    filter pairs based on the distance threshold, and remove self-pairs.\n",
    "\n",
    "    Parameters:\n",
    "        stations (pd.DataFrame): DataFrame containing 'region', 'latitude', and 'longitude'.\n",
    "        threshold (float): Distance threshold in kilometers.\n",
    "\n",
    "    Returns:\n",
    "        pd.DataFrame: Filtered distance matrix with columns ['station1', 'station2', 'distance', 'weight'].\n",
    "    \"\"\"\n",
    "    from itertools import product\n",
    "\n",
    "    # Create all station pairs\n",
    "    station_pairs = pd.DataFrame(list(product(stations['region'], repeat=2)), columns=['station1', 'station2'])\n",
    "\n",
    "    # Remove self-pairs\n",
    "    station_pairs = station_pairs[station_pairs['station1'] != station_pairs['station2']]\n",
    "\n",
    "    # Calculate distances for all pairs\n",
    "    station_coords = stations.set_index('region')[['latitude', 'longitude']]\n",
    "    station_pairs['distance'] = station_pairs.apply(\n",
    "        lambda row: geodesic(\n",
    "            station_coords.loc[row['station1']],\n",
    "            station_coords.loc[row['station2']]\n",
    "        ).km, axis=1\n",
    "    )\n",
    "\n",
    "    # Filter by distance threshold\n",
    "    station_pairs = station_pairs[station_pairs['distance'] <= threshold]\n",
    "\n",
    "    # Calculate weights (1/distance^2)\n",
    "    station_pairs['weight'] = station_pairs['distance'].apply(lambda d: 1 / (d ** 2))\n",
    "\n",
    "    return station_pairs\n",
    "\n",
    "\n",
    "def fill_nulls_with_weighted_average(df, fields, distance_matrix):\n",
    "    \"\"\"\n",
    "    Fill null values in specific fields using a precomputed distance matrix with weights.\n",
    "\n",
    "    Parameters:\n",
    "        df (pd.DataFrame): Input DataFrame with 'date', 'region', and the fields to fill.\n",
    "        fields (list): List of column names of the fields with missing values to fill.\n",
    "        distance_matrix (pd.DataFrame): Precomputed distance matrix with filtered pairs and weights.\n",
    "\n",
    "    Returns:\n",
    "        pd.DataFrame: Modified copy of the input DataFrame with null values filled.\n",
    "    \"\"\"\n",
    "    # Make a copy of the DataFrame to avoid modifying the original\n",
    "    df_filled = df.copy()\n",
    "\n",
    "    # Iterate over unique dates\n",
    "    for date in df_filled['date'].unique():\n",
    "        # Subset data for the specific date\n",
    "        daily_data = df_filled[df_filled['date'] == date]\n",
    "\n",
    "        for field in fields:\n",
    "            stations_with_data = daily_data[daily_data[field].notnull()]\n",
    "            stations_without_data = daily_data[daily_data[field].isnull()]\n",
    "\n",
    "            # Loop through stations without data\n",
    "            for idx, row in stations_without_data.iterrows():\n",
    "                region = row['region']\n",
    "\n",
    "                # Retrieve precomputed distances and weights\n",
    "                valid_distances = distance_matrix[\n",
    "                    distance_matrix['station1'] == region\n",
    "                ].merge(stations_with_data[['region', field]], left_on='station2', right_on='region')\n",
    "\n",
    "                if not valid_distances.empty:\n",
    "                    # Calculate weighted average using precomputed weights\n",
    "                    weighted_avg = np.sum(valid_distances['weight'] * valid_distances[field]) / np.sum(valid_distances['weight'])\n",
    "                    df_filled.loc[idx, field] = weighted_avg\n",
    "\n",
    "    return df_filled"
   ]
  },
  {
   "cell_type": "code",
   "execution_count": 12,
   "metadata": {},
   "outputs": [],
   "source": [
    "stations = df[['region', 'latitude', 'longitude']].drop_duplicates()"
   ]
  },
  {
   "cell_type": "code",
   "execution_count": 15,
   "metadata": {},
   "outputs": [],
   "source": [
    "fields_to_fill = ['Mean Pressure (hPa)', 'Total Rainfall (mm)', 'Mean Relative Humidity (%)', 'Maximum Temperature (°C)', 'Minimum Temperature (°C)', 'Mean Temperature (°C)', 'Prevailing Wind Direction (°)','Mean Wind Speed (km/h)']"
   ]
  },
  {
   "cell_type": "code",
   "execution_count": null,
   "metadata": {},
   "outputs": [],
   "source": [
    "threshold = 30  # Define a distance threshold"
   ]
  },
  {
   "cell_type": "code",
   "execution_count": 42,
   "metadata": {},
   "outputs": [],
   "source": [
    "distance_matrix = precompute_distances_and_weights_with_threshold(stations, threshold)"
   ]
  },
  {
   "cell_type": "code",
   "execution_count": 45,
   "metadata": {},
   "outputs": [],
   "source": [
    "filled_df = fill_nulls_with_weighted_average(df, fields_to_fill, distance_matrix)"
   ]
  },
  {
   "cell_type": "code",
   "execution_count": 46,
   "metadata": {},
   "outputs": [],
   "source": [
    "filled_df.to_csv(\"data_gcs_combine_update_district_fillna.csv\")"
   ]
  }
 ],
 "metadata": {
  "kernelspec": {
   "display_name": ".venv",
   "language": "python",
   "name": "python3"
  },
  "language_info": {
   "codemirror_mode": {
    "name": "ipython",
    "version": 3
   },
   "file_extension": ".py",
   "mimetype": "text/x-python",
   "name": "python",
   "nbconvert_exporter": "python",
   "pygments_lexer": "ipython3",
   "version": "3.11.4"
  }
 },
 "nbformat": 4,
 "nbformat_minor": 2
}
